{
 "cells": [
  {
   "cell_type": "markdown",
   "metadata": {},
   "source": [
    "## 39. Combination Sum\n",
    "\n",
    "Given an array of distinct integers candidates and a target integer target, return a list of all unique combinations of candidates where the chosen numbers sum to target. You may return the combinations in any order.\n",
    "\n",
    "The same number may be chosen from candidates an unlimited number of times. Two combinations are unique if the frequency of at least one of the chosen numbers is different.\n",
    "\n",
    "Example 1:\n",
    "\n",
    "Input: candidates = [2,3,6,7], target = 7\n",
    "Output: [[2,2,3],[7]]\n",
    "Explanation:\n",
    "2 and 3 are candidates, and 2 + 2 + 3 = 7. Note that 2 can be used multiple times.\n",
    "7 is a candidate, and 7 = 7.\n",
    "These are the only two combinations.\n",
    "\n",
    "Example 2:\n",
    "\n",
    "Input: candidates = [2,3,5], target = 8\n",
    "Output: [[2,2,2,2],[2,3,3],[3,5]]\n",
    "\n",
    "Example 3:\n",
    "\n",
    "Input: candidates = [2], target = 1\n",
    "Output: []\n",
    "\n",
    "Example 4:\n",
    "\n",
    "Input: candidates = [1], target = 1\n",
    "Output: [[1]]\n",
    "\n",
    "Example 5:\n",
    "\n",
    "Input: candidates = [1], target = 2\n",
    "Output: [[1,1]]\n",
    "\n",
    "Constraints:\n",
    "\n",
    "1 <= candidates.length <= 30\n",
    "\n",
    "1 <= candidates[i] <= 200\n",
    "\n",
    "All elements of candidates are distinct.\n",
    "1 <= target <= 500"
   ]
  },
  {
   "cell_type": "code",
   "execution_count": 4,
   "metadata": {},
   "outputs": [
    {
     "name": "stdout",
     "output_type": "stream",
     "text": [
      "1 [2, 3, 6, 7] 5 0 [] [2]\n",
      "2 [2, 3, 6, 7] 3 0 [] [2, 2]\n",
      "3 [2, 3, 6, 7] 1 0 [] [2, 2, 2]\n",
      "2 2 1\n",
      "3 [2, 3, 6, 7] 0 1 [] [2, 2, 3]\n",
      "2 [[2, 2, 3]]\n",
      "3 [2, 3, 6, 7] -3 2 [[2, 2, 3]] [2, 2, 6]\n",
      "2 -3\n",
      "3 [2, 3, 6, 7] -4 3 [[2, 2, 3]] [2, 2, 7]\n",
      "2 -4\n",
      "3 [2, 3, 6, 7] 2 1 [[2, 2, 3]] [2, 3]\n",
      "2 3 2\n",
      "3 [2, 3, 6, 7] -1 2 [[2, 2, 3]] [2, 6]\n",
      "2 -1\n",
      "3 [2, 3, 6, 7] -2 3 [[2, 2, 3]] [2, 7]\n",
      "2 -2\n",
      "3 [2, 3, 6, 7] 4 1 [[2, 2, 3]] [3]\n",
      "4 [2, 3, 6, 7] 1 1 [[2, 2, 3]] [3, 3]\n",
      "3 3 1\n",
      "4 [2, 3, 6, 7] -2 2 [[2, 2, 3]] [3, 6]\n",
      "3 -2\n",
      "4 [2, 3, 6, 7] -3 3 [[2, 2, 3]] [3, 7]\n",
      "3 -3\n",
      "4 [2, 3, 6, 7] 1 2 [[2, 2, 3]] [6]\n",
      "3 6 1\n",
      "4 [2, 3, 6, 7] 0 3 [[2, 2, 3]] [7]\n",
      "3 [[2, 2, 3], [7]]\n",
      "1 [2, 3, 5] 6 0 [] [2]\n",
      "2 [2, 3, 5] 4 0 [] [2, 2]\n",
      "3 [2, 3, 5] 2 0 [] [2, 2, 2]\n",
      "4 [2, 3, 5] 0 0 [] [2, 2, 2, 2]\n",
      "3 [[2, 2, 2, 2]]\n",
      "4 [2, 3, 5] -1 1 [[2, 2, 2, 2]] [2, 2, 2, 3]\n",
      "3 -1\n",
      "4 [2, 3, 5] -3 2 [[2, 2, 2, 2]] [2, 2, 2, 5]\n",
      "3 -3\n",
      "4 [2, 3, 5] 1 1 [[2, 2, 2, 2]] [2, 2, 3]\n",
      "3 3 1\n",
      "4 [2, 3, 5] -1 2 [[2, 2, 2, 2]] [2, 2, 5]\n",
      "3 -1\n",
      "4 [2, 3, 5] 3 1 [[2, 2, 2, 2]] [2, 3]\n",
      "5 [2, 3, 5] 0 1 [[2, 2, 2, 2]] [2, 3, 3]\n",
      "4 [[2, 2, 2, 2], [2, 3, 3]]\n",
      "5 [2, 3, 5] -2 2 [[2, 2, 2, 2], [2, 3, 3]] [2, 3, 5]\n",
      "4 -2\n",
      "5 [2, 3, 5] 1 2 [[2, 2, 2, 2], [2, 3, 3]] [2, 5]\n",
      "4 5 1\n",
      "5 [2, 3, 5] 5 1 [[2, 2, 2, 2], [2, 3, 3]] [3]\n",
      "6 [2, 3, 5] 2 1 [[2, 2, 2, 2], [2, 3, 3]] [3, 3]\n",
      "5 3 2\n",
      "6 [2, 3, 5] 0 2 [[2, 2, 2, 2], [2, 3, 3]] [3, 5]\n",
      "5 [[2, 2, 2, 2], [2, 3, 3], [3, 5]]\n",
      "6 [2, 3, 5] 3 2 [[2, 2, 2, 2], [2, 3, 3], [3, 5]] [5]\n",
      "5 5 3\n"
     ]
    }
   ],
   "source": [
    "class Solution:\n",
    "    def combinationSum(self, candidates, target: int):\n",
    "        res = []\n",
    "        candidates.sort()\n",
    "        self.temp = 0\n",
    "        self.dfs(candidates, target, 0, res, [])\n",
    "        return res\n",
    "\n",
    "    def dfs(self, nums, target, index, res, path):\n",
    "        if target < 0:\n",
    "            self.temp -= 1\n",
    "            print(self.temp, target)\n",
    "            return\n",
    "        elif target == 0:\n",
    "            res.append(path)\n",
    "            self.temp -= 1\n",
    "            print(self.temp, res)\n",
    "            return\n",
    "        for i in range(index, len(nums)):\n",
    "            if nums[index] > target:\n",
    "                self.temp -= 1\n",
    "                print(self.temp, nums[index], target)\n",
    "                return\n",
    "            self.temp += 1\n",
    "            print(self.temp, nums, target - nums[i], i, res, path + [nums[i]])\n",
    "            self.dfs(nums, target - nums[i], i, res, path + [nums[i]])\n",
    "\n",
    "inputs = [2,3,6,7]\n",
    "target = 7\n",
    "assert Solution().combinationSum(inputs, target) == [[2, 2, 3], [7]] # output = [[2,2,3], [7]]\n",
    "\n",
    "inputs = [2,3,5]\n",
    "target = 8\n",
    "assert Solution().combinationSum(inputs, target) == [[2, 2, 2, 2], [2, 3, 3], [3, 5]] # output = [[2,2,2,2],[2,3,3],[3,5]]"
   ]
  },
  {
   "cell_type": "code",
   "execution_count": 10,
   "metadata": {},
   "outputs": [
    {
     "name": "stdout",
     "output_type": "stream",
     "text": [
      "1\n"
     ]
    }
   ],
   "source": [
    "def gcd(m, n):\n",
    "    if n == 0:\n",
    "        return m\n",
    "    else:\n",
    "        return gcd(n, m%n)\n",
    "\n",
    "m = 13\n",
    "n = 225\n",
    "print(gcd(m, n))"
   ]
  },
  {
   "cell_type": "code",
   "execution_count": 11,
   "metadata": {},
   "outputs": [
    {
     "name": "stdout",
     "output_type": "stream",
     "text": [
      "1\n"
     ]
    }
   ],
   "source": [
    "def gcd(a,b):\n",
    "    while b:\n",
    "        r = a%b\n",
    "        a = b\n",
    "        b = r\n",
    "    return a \n",
    "print(gcd(m,n))"
   ]
  },
  {
   "cell_type": "code",
   "execution_count": 13,
   "metadata": {},
   "outputs": [
    {
     "name": "stdout",
     "output_type": "stream",
     "text": [
      "13\n"
     ]
    }
   ],
   "source": [
    "def fibonacci_loop(n):\n",
    "    if n == 1 or n == 2:\n",
    "        return 1\n",
    "    else:\n",
    "        fib1 = 1\n",
    "        fib2 = 1\n",
    "        fib3 = 0\n",
    "        for i in range(2, n):\n",
    "            fib3 = fib1 + fib2\n",
    "            fib1 = fib2\n",
    "            fib2 = fib3\n",
    "        return fib3\n",
    "\n",
    "print(fibonacci_loop(7))"
   ]
  },
  {
   "cell_type": "code",
   "execution_count": 14,
   "metadata": {},
   "outputs": [
    {
     "name": "stdout",
     "output_type": "stream",
     "text": [
      "13\n"
     ]
    }
   ],
   "source": [
    "def fibonacci(n):\n",
    "    if n == 0:\n",
    "        return 0\n",
    "    elif n == 1:\n",
    "        return 1\n",
    "    else:\n",
    "        return fibonacci(n-1) + fibonacci(n-2)\n",
    "print(fibonacci_loop(7))"
   ]
  },
  {
   "cell_type": "code",
   "execution_count": null,
   "metadata": {},
   "outputs": [],
   "source": []
  }
 ],
 "metadata": {
  "kernelspec": {
   "display_name": "Python 3",
   "language": "python",
   "name": "python3"
  },
  "language_info": {
   "codemirror_mode": {
    "name": "ipython",
    "version": 3
   },
   "file_extension": ".py",
   "mimetype": "text/x-python",
   "name": "python",
   "nbconvert_exporter": "python",
   "pygments_lexer": "ipython3",
   "version": "3.6.8"
  }
 },
 "nbformat": 4,
 "nbformat_minor": 2
}
