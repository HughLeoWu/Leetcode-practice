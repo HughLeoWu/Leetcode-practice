{
 "cells": [
  {
   "cell_type": "markdown",
   "metadata": {},
   "source": [
    "## 1288. Remove Covered Intervals\n",
    "\n",
    "Given a list of intervals, remove all intervals that are covered by another interval in the list.\n",
    "\n",
    "Interval [a,b) is covered by interval [c,d) if and only if c <= a and b <= d.\n",
    "\n",
    "After doing so, return the number of remaining intervals.\n",
    "\n",
    "Constraints:\n",
    "\n",
    "1 <= intervals.length <= 1000\n",
    "\n",
    "intervals[i].length == 2\n",
    "\n",
    "0 <= intervals[i][0] < intervals[i][1] <= 10^5\n",
    "\n",
    "All the intervals are unique.\n",
    "\n",
    "Hint #1  How to check if an interval is covered by another?\n",
    "\n",
    "Hint #2  Compare each interval to all others and check if it is covered by any interval."
   ]
  },
  {
   "cell_type": "code",
   "execution_count": 2,
   "metadata": {},
   "outputs": [
    {
     "name": "stdout",
     "output_type": "stream",
     "text": [
      "[[1, 4], [1, 2], [3, 4]]\n",
      "1 4 0\n",
      "1 2 4\n",
      "3 4 4\n",
      "1\n",
      "[[1, 4], [2, 8], [3, 6]]\n",
      "1 4 0\n",
      "2 8 4\n",
      "3 6 8\n",
      "2\n",
      "[[1, 4], [3, 6], [4, 7]]\n",
      "1 4 0\n",
      "3 6 4\n",
      "4 7 6\n",
      "3\n",
      "[[1, 7], [1, 6], [1, 4]]\n",
      "1 7 0\n",
      "1 6 7\n",
      "1 4 7\n",
      "1\n"
     ]
    }
   ],
   "source": [
    "class Solution:\n",
    "    def removeCoveredIntervals(self, intervals):\n",
    "        res = right = 0\n",
    "        intervals.sort(key=lambda a: (a[0], -a[1]))\n",
    "        print(intervals)\n",
    "        for i, j in intervals:\n",
    "            print(i, j, right)\n",
    "            res += j > right # 如果右边界 > 之前的最大的右边界，代表你一定不会覆盖，因为此时左边界 >= 之前的左边界\n",
    "            right = max(right, j)\n",
    "        return res\n",
    "                \n",
    "intervals = [[1,2],[1,4],[3,4]]\n",
    "print(Solution().removeCoveredIntervals(intervals)) # 1\n",
    "\n",
    "intervals = [[1,4],[3,6],[2,8]]\n",
    "print(Solution().removeCoveredIntervals(intervals)) # 2\n",
    "\n",
    "#intervals = [[0,10],[5,12]]\n",
    "#print(Solution().removeCoveredIntervals(intervals)) # 2\n",
    "\n",
    "intervals = [[1,4],[4,7],[3,6]]\n",
    "print(Solution().removeCoveredIntervals(intervals)) # 3\n",
    "\n",
    "intervals = [[1,4],[1,7],[1,6]]\n",
    "print(Solution().removeCoveredIntervals(intervals)) # 1"
   ]
  },
  {
   "cell_type": "code",
   "execution_count": null,
   "metadata": {},
   "outputs": [],
   "source": []
  }
 ],
 "metadata": {
  "kernelspec": {
   "display_name": "Python 3",
   "language": "python",
   "name": "python3"
  },
  "language_info": {
   "codemirror_mode": {
    "name": "ipython",
    "version": 3
   },
   "file_extension": ".py",
   "mimetype": "text/x-python",
   "name": "python",
   "nbconvert_exporter": "python",
   "pygments_lexer": "ipython3",
   "version": "3.6.8"
  }
 },
 "nbformat": 4,
 "nbformat_minor": 2
}
