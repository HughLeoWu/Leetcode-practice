{
 "cells": [
  {
   "cell_type": "markdown",
   "metadata": {},
   "source": [
    "## 41. First Missing Positive\n",
    "Given an unsorted integer array, find the smallest missing positive integer.\n",
    "\n",
    "Example 1:\n",
    "Input: [1,2,0]\n",
    "Output: 3\n",
    "\n",
    "Example 2:\n",
    "Input: [3,4,-1,1]\n",
    "Output: 2\n",
    "\n",
    "Example 3:\n",
    "Input: [7,8,9,11,12]\n",
    "Output: 1\n",
    "\n",
    "Your algorithm should run in O(n) time and uses constant extra space.\n",
    "\n",
    "hint1: Think about how you would solve the problem in non-constant space. Can you apply that logic to the existing space?\n",
    "\n",
    "hint2: We don't care about duplicates or non-positive integers\n",
    "\n",
    "hint3: Remember that O(2n) = O(n)"
   ]
  },
  {
   "cell_type": "code",
   "execution_count": 14,
   "metadata": {},
   "outputs": [
    {
     "name": "stdout",
     "output_type": "stream",
     "text": [
      "[7, 8, 9, 11, 12]\n",
      "[12, 1, 9, 8, 7, 6, 5, 4, 3, 2, 11] 1 1\n",
      "[1, 12, 9, 8, 7, 6, 5, 4, 3, 2, 11] 12 1\n",
      "[1, 12, 3, 8, 7, 6, 5, 4, 9, 2, 11] 3 2\n",
      "[1, 12, 3, 4, 7, 6, 5, 8, 9, 2, 11] 4 3\n",
      "[1, 12, 3, 4, 5, 6, 7, 8, 9, 2, 11] 5 4\n",
      "[1, 2, 3, 4, 5, 6, 7, 8, 9, 12, 11] 12 9\n",
      "[1, 2, 3, 4, 5, 6, 7, 8, 9, 12, 11]\n",
      "[1, 2, 0]\n",
      "[-1, 4, 3, 1] -1 0\n",
      "[-1, 1, 3, 4] 1 1\n",
      "[1, -1, 3, 4] -1 1\n",
      "[1, -1, 3, 4]\n",
      "[4, 3, 3, 4] 4 0\n",
      "[4, 3, 3, 4]\n",
      "[1, 2, 2, 4, -1, 1] -1 4\n",
      "[1, 2, 2, 4, -1, 1]\n"
     ]
    }
   ],
   "source": [
    "class Solution:\n",
    "    def firstMissingPositive(self, nums):\n",
    "        if len(nums) == 0:\n",
    "            return 1\n",
    "        i = 0\n",
    "        while i < len(nums):\n",
    "            if nums[i] <= len(nums) and nums[i] > 0 and nums[nums[i] - 1] != nums[i]:\n",
    "                tmp = nums[nums[i] - 1]\n",
    "                nums[nums[i] - 1] = nums[i]\n",
    "                nums[i] = tmp\n",
    "                print(nums, tmp, i)\n",
    "                i -= 1\n",
    "            i += 1\n",
    "        print(nums)\n",
    "        i = 0        \n",
    "        while i < len(nums):\n",
    "            if nums[i] != i + 1:\n",
    "                return i + 1\n",
    "            i += 1\n",
    "        return len(nums) + 1       \n",
    "        \n",
    "                \n",
    "nums = [7,8,9,11,12]\n",
    "assert Solution().firstMissingPositive(nums) == 1\n",
    "nums = [12,11,9,8,7,6,5,4,3,2,1]\n",
    "assert Solution().firstMissingPositive(nums) == 10\n",
    "nums = [1,2,0]\n",
    "assert Solution().firstMissingPositive(nums) == 3\n",
    "nums = [3,4,-1,1]\n",
    "assert Solution().firstMissingPositive(nums) == 2\n",
    "nums = [3,3,4,4]\n",
    "assert Solution().firstMissingPositive(nums) == 1\n",
    "nums = [1,2,2,-1,4,1]\n",
    "assert Solution().firstMissingPositive(nums) == 3\n",
    "nums = []\n",
    "assert Solution().firstMissingPositive(nums) == 1"
   ]
  },
  {
   "cell_type": "code",
   "execution_count": null,
   "metadata": {},
   "outputs": [],
   "source": []
  }
 ],
 "metadata": {
  "kernelspec": {
   "display_name": "Python 3",
   "language": "python",
   "name": "python3"
  },
  "language_info": {
   "codemirror_mode": {
    "name": "ipython",
    "version": 3
   },
   "file_extension": ".py",
   "mimetype": "text/x-python",
   "name": "python",
   "nbconvert_exporter": "python",
   "pygments_lexer": "ipython3",
   "version": "3.6.8"
  }
 },
 "nbformat": 4,
 "nbformat_minor": 2
}
