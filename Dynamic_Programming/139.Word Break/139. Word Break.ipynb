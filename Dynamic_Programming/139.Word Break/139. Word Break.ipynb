{
 "cells": [
  {
   "cell_type": "markdown",
   "metadata": {},
   "source": [
    "## LeetCode 139. Word Break\n",
    "Given a non-empty string s and a dictionary wordDict containing a list of non-empty words, determine if s can be segmented into a space-separated sequence of one or more dictionary words.\n",
    "\n",
    "Note:\n",
    "The same word in the dictionary may be reused multiple times in the segmentation.\n",
    "You may assume the dictionary does not contain duplicate words.\n",
    "Example 1:\n",
    "Input: s = \"leetcode\", wordDict = [\"leet\", \"code\"]\n",
    "Output: true\n",
    "\n",
    "Explanation: Return true because \"leetcode\" can be segmented as \"leet code\".\n",
    "Example 2:\n",
    "Input: s = \"applepenapple\", wordDict = [\"apple\", \"pen\"]\n",
    "Output: true\n",
    "\n",
    "Explanation: Return true because \"applepenapple\" can be segmented as \"apple pen apple\".\n",
    "             Note that you are allowed to reuse a dictionary word.\n",
    "\n",
    "Example 3:\n",
    "Input: s = \"catsandog\", wordDict = [\"cats\", \"dog\", \"sand\", \"and\", \"cat\"]\n",
    "Output: false"
   ]
  },
  {
   "cell_type": "code",
   "execution_count": 10,
   "metadata": {},
   "outputs": [
    {
     "name": "stdout",
     "output_type": "stream",
     "text": [
      "leetcode\n",
      "['leet', 'code']\n",
      "[True, False, False, False, False, False, False, False, False]\n",
      "[True, False, False, False, True, False, False, False, False]\n",
      "[True, False, False, False, True, False, False, False, True]\n",
      "applepenapple\n",
      "['apple', 'pen']\n",
      "[True, False, False, False, False, False, False, False, False, False, False, False, False, False]\n",
      "[True, False, False, False, False, True, False, False, False, False, False, False, False, False]\n",
      "[True, False, False, False, False, True, False, False, True, False, False, False, False, False]\n",
      "[True, False, False, False, False, True, False, False, True, False, False, False, False, True]\n",
      "catsandog\n",
      "['cats', 'dog', 'sand', 'and', 'cat']\n",
      "[True, False, False, False, False, False, False, False, False, False]\n",
      "[True, False, False, True, False, False, False, False, False, False]\n",
      "[True, False, False, True, True, False, False, False, False, False]\n",
      "[True, False, False, True, True, False, False, True, False, False]\n",
      "[True, False, False, True, True, False, False, True, False, False]\n",
      "a\n",
      "[]\n",
      "[True, False]\n",
      "cars\n",
      "['car', 'ca', 'rs']\n",
      "[True, False, False, False, False]\n",
      "[True, False, True, False, False]\n",
      "[True, False, True, True, False]\n",
      "[True, False, True, True, True]\n"
     ]
    }
   ],
   "source": [
    "class Solution:\n",
    "    def wordBreak(self, s, wordDict):\n",
    "        print(s)\n",
    "        print(wordDict)\n",
    "        dp = [False] * (len(s) + 1)\n",
    "        dp[0] = True\n",
    "        print(dp)\n",
    "        for i in range(1, len(s) + 1):\n",
    "            for k in range(i):\n",
    "                if dp[k] and s[k:i] in wordDict:\n",
    "                    dp[i] = True\n",
    "                    print(dp)\n",
    "        return dp.pop()\n",
    "            \n",
    "\n",
    "s, wordDict = \"leetcode\", [\"leet\", \"code\"]\n",
    "assert Solution().wordBreak(s, wordDict) == True\n",
    "\n",
    "s, wordDict = \"applepenapple\", [\"apple\", \"pen\"]\n",
    "assert Solution().wordBreak(s, wordDict) == True\n",
    "\n",
    "s, wordDict = \"catsandog\", [\"cats\", \"dog\", \"sand\", \"and\", \"cat\"]\n",
    "assert Solution().wordBreak(s, wordDict) == False\n",
    "\n",
    "s, wordDict = \"a\", []\n",
    "assert Solution().wordBreak(s, wordDict) == False\n",
    "\n",
    "s, wordDict = \"cars\", [\"car\", \"ca\", \"rs\"]\n",
    "assert Solution().wordBreak(s, wordDict) == True"
   ]
  },
  {
   "cell_type": "code",
   "execution_count": null,
   "metadata": {},
   "outputs": [],
   "source": []
  }
 ],
 "metadata": {
  "kernelspec": {
   "display_name": "Python 3",
   "language": "python",
   "name": "python3"
  },
  "language_info": {
   "codemirror_mode": {
    "name": "ipython",
    "version": 3
   },
   "file_extension": ".py",
   "mimetype": "text/x-python",
   "name": "python",
   "nbconvert_exporter": "python",
   "pygments_lexer": "ipython3",
   "version": "3.6.8"
  }
 },
 "nbformat": 4,
 "nbformat_minor": 2
}
