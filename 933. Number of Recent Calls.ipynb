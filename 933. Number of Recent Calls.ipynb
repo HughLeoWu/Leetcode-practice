{
 "cells": [
  {
   "cell_type": "markdown",
   "metadata": {},
   "source": [
    "## 933\tNumber of Recent Calls\n",
    "\n",
    "You have a RecentCounter class which counts the number of recent requests within a certain time frame.\n",
    "\n",
    "Implement the RecentCounter class:\n",
    "\n",
    "RecentCounter() Initializes the counter with zero recent requests.\n",
    "int ping(int t) Adds a new request at time t, where t represents some time in milliseconds, and returns the number of requests that has happened in the past 3000 milliseconds (including the new request). Specifically, return the number of requests that have happened in the inclusive range [t - 3000, t].\n",
    "It is guaranteed that every call to ping uses a strictly larger value of t than the previous call.\n",
    "\n",
    "Example 1:\n",
    "\n",
    "Input\n",
    "[\"RecentCounter\", \"ping\", \"ping\", \"ping\", \"ping\"]\n",
    "[[], [1], [100], [3001], [3002]]\n",
    "\n",
    "Output\n",
    "[null, 1, 2, 3, 3]\n",
    "\n",
    "Explanation\n",
    "RecentCounter recentCounter = new RecentCounter();\n",
    "\n",
    "recentCounter.ping(1);     // requests = [1], range is [-2999,1], return 1\n",
    "\n",
    "recentCounter.ping(100);   // requests = [1, 100], range is [-2900,100], return 2\n",
    "\n",
    "recentCounter.ping(3001);  // requests = [1, 100, 3001], range is [1,3001], return 3\n",
    "\n",
    "recentCounter.ping(3002);  // requests = [1, 100, 3001, 3002], range is [2,3002], return 3\n",
    "\n",
    "Constraints:\n",
    "\n",
    "1 <= t <= 10^9\n",
    "\n",
    "Each test case will call ping with strictly increasing values of t.\n",
    "\n",
    "At most 104 calls will be made to ping."
   ]
  },
  {
   "cell_type": "code",
   "execution_count": 2,
   "metadata": {},
   "outputs": [
    {
     "name": "stdout",
     "output_type": "stream",
     "text": [
      "[1]\n",
      "[1, 100]\n",
      "[1, 100, 3001]\n",
      "[1, 100, 3001, 3002]\n",
      "[1, 2, 3, 3]\n"
     ]
    }
   ],
   "source": [
    "class RecentCounter:\n",
    "    def __init__(self):\n",
    "        self.recent = []\n",
    "\n",
    "    def ping(self, t: int) -> int:\n",
    "        self.recent.append(t)\n",
    "        print(self.recent)\n",
    "        while self.recent[0] < (t - 3000):\n",
    "            self.recent.pop(0)\n",
    "        return len(self.recent)\n",
    "\n",
    "ret = RecentCounter()\n",
    "print([ret.ping(1), ret.ping(100), ret.ping(3001), ret.ping(3002)])"
   ]
  },
  {
   "cell_type": "code",
   "execution_count": null,
   "metadata": {},
   "outputs": [],
   "source": []
  }
 ],
 "metadata": {
  "kernelspec": {
   "display_name": "Python 3",
   "language": "python",
   "name": "python3"
  },
  "language_info": {
   "codemirror_mode": {
    "name": "ipython",
    "version": 3
   },
   "file_extension": ".py",
   "mimetype": "text/x-python",
   "name": "python",
   "nbconvert_exporter": "python",
   "pygments_lexer": "ipython3",
   "version": "3.6.8"
  }
 },
 "nbformat": 4,
 "nbformat_minor": 2
}
