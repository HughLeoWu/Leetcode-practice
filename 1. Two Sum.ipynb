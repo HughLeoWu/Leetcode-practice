{
 "cells": [
  {
   "cell_type": "markdown",
   "metadata": {},
   "source": [
    "## 1. Two Sum\n",
    "Given an array of integers nums and an integer target, return indices of the two numbers such that they add up to target.\n",
    "You may assume that each input would have exactly one solution, and you may not use the same element twice.\n",
    "You can return the answer in any order.\n",
    "\n",
    "Example 1:\n",
    "Input: nums = [2,7,11,15], target = 9\n",
    "Output: [0,1]\n",
    "Output: Because nums[0] + nums[1] == 9, we return [0, 1].\n",
    "\n",
    "Example 2:\n",
    "Input: nums = [3,2,4], target = 6\n",
    "Output: [1,2]\n",
    "\n",
    "Example 3:\n",
    "Input: nums = [3,3], target = 6\n",
    "Output: [0,1]"
   ]
  },
  {
   "cell_type": "code",
   "execution_count": 1,
   "metadata": {},
   "outputs": [
    {
     "name": "stdout",
     "output_type": "stream",
     "text": [
      "process time 0.03409385681152344\n"
     ]
    }
   ],
   "source": [
    "import time\n",
    "\n",
    "# Result 56 ms ; 15 MB\n",
    "class Solution:\n",
    "    def twoSum(self, nums, target):\n",
    "        hash_table = dict()\n",
    "        for index, i in enumerate(nums):\n",
    "            if (target - i) in hash_table:\n",
    "                return[hash_table[target - i], index]\n",
    "                break\n",
    "            hash_table[i] = index\n",
    "        return[]    \n",
    "    \n",
    "nums = [2, 7, 11, 15]\n",
    "target = 18\n",
    "\n",
    "start = time.time()\n",
    "assert Solution().twoSum(nums, target) == [1, 2]\n",
    "end = time.time()\n",
    "target = 26\n",
    "assert Solution().twoSum(nums, target) == [2, 3]\n",
    "\n",
    "nums = [3, 4, 2]\n",
    "target = 6\n",
    "assert Solution().twoSum(nums, target) == [1, 2]\n",
    "\n",
    "nums = [0, 3, 3]\n",
    "target = 6\n",
    "assert Solution().twoSum(nums, target) == [1, 2]\n",
    "print('process time {}'.format((end - start)*1000))"
   ]
  },
  {
   "cell_type": "code",
   "execution_count": 2,
   "metadata": {},
   "outputs": [
    {
     "name": "stdout",
     "output_type": "stream",
     "text": [
      "process time 0.042438507080078125\n"
     ]
    }
   ],
   "source": [
    "# Result (Runtime ; Memory) 404 ms ; 15 MB\n",
    "class Solution:\n",
    "    def twoSum(self, nums, target):\n",
    "        hash_table = list()\n",
    "        for idx, num in enumerate(nums):\n",
    "            if (target - num) in hash_table:\n",
    "                return[nums.index(target - num), idx]\n",
    "                break\n",
    "            hash_table.append(num)\n",
    "        return[]\n",
    "    \n",
    "nums = [2, 7, 11, 15]\n",
    "target = 18\n",
    "\n",
    "start = time.time()\n",
    "assert Solution().twoSum(nums, target) == [1, 2]\n",
    "end = time.time()\n",
    "target = 26\n",
    "assert Solution().twoSum(nums, target) == [2, 3]\n",
    "\n",
    "nums = [3, 4, 2]\n",
    "target = 6\n",
    "assert Solution().twoSum(nums, target) == [1, 2]\n",
    "\n",
    "nums = [0, 3, 3]\n",
    "target = 6\n",
    "assert Solution().twoSum(nums, target) == [1, 2]\n",
    "print('process time {}'.format((end - start)*1000))"
   ]
  },
  {
   "cell_type": "code",
   "execution_count": null,
   "metadata": {},
   "outputs": [],
   "source": []
  }
 ],
 "metadata": {
  "kernelspec": {
   "display_name": "Python 3",
   "language": "python",
   "name": "python3"
  },
  "language_info": {
   "codemirror_mode": {
    "name": "ipython",
    "version": 3
   },
   "file_extension": ".py",
   "mimetype": "text/x-python",
   "name": "python",
   "nbconvert_exporter": "python",
   "pygments_lexer": "ipython3",
   "version": "3.6.8"
  }
 },
 "nbformat": 4,
 "nbformat_minor": 2
}
