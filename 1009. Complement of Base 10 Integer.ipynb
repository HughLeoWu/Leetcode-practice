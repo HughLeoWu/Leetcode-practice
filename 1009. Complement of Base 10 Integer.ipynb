{
 "cells": [
  {
   "cell_type": "markdown",
   "metadata": {},
   "source": [
    "## 1009. Complement of Base 10 Integer\n",
    "\n",
    "Every non-negative integer N has a binary representation.  For example, 5 can be represented as \"101\" in binary, 11 as \"1011\" in binary, and so on.  Note that except for N = 0, there are no leading zeroes in any binary representation.\n",
    "\n",
    "The complement of a binary representation is the number in binary you get when changing every 1 to a 0 and 0 to a 1.  For example, the complement of \"101\" in binary is \"010\" in binary.\n",
    "\n",
    "For a given number N in base-10, return the complement of it's binary representation as a base-10 integer.\n",
    "\n",
    "Hint #1  \n",
    "A binary number plus its complement will equal 111....111 in binary. Also, N = 0 is a corner case."
   ]
  },
  {
   "cell_type": "code",
   "execution_count": 45,
   "metadata": {},
   "outputs": [],
   "source": [
    "class Solution:\n",
    "    def bitwiseComplement(self, N: int) -> int:\n",
    "        com_data = list()\n",
    "        data = list()\n",
    "        com_num = 0\n",
    "        \n",
    "        if N < 2:\n",
    "            data.append(N)\n",
    "    \n",
    "        while N > 1:\n",
    "            data.append(N%2)\n",
    "            N = int(N / 2)\n",
    "            if N < 2:\n",
    "                data.append(N)\n",
    "                break\n",
    "\n",
    "        data.reverse()\n",
    "        for i in (data):\n",
    "            if i == 0:\n",
    "                com_data.append(1)\n",
    "            else:\n",
    "                com_data.append(0)\n",
    "\n",
    "        for idx, i in enumerate(com_data):\n",
    "            if i == 1:\n",
    "                com_num += pow(2, (len(com_data)-1) - idx)\n",
    "        \n",
    "        return com_num\n",
    "    \n",
    "N = 7\n",
    "assert Solution().bitwiseComplement(N) == 0\n",
    "\n",
    "N = 0\n",
    "assert Solution().bitwiseComplement(N) == 1\n",
    "\n",
    "N = 10\n",
    "assert Solution().bitwiseComplement(N) == 5"
   ]
  },
  {
   "cell_type": "code",
   "execution_count": null,
   "metadata": {},
   "outputs": [],
   "source": []
  }
 ],
 "metadata": {
  "kernelspec": {
   "display_name": "Python 3",
   "language": "python",
   "name": "python3"
  },
  "language_info": {
   "codemirror_mode": {
    "name": "ipython",
    "version": 3
   },
   "file_extension": ".py",
   "mimetype": "text/x-python",
   "name": "python",
   "nbconvert_exporter": "python",
   "pygments_lexer": "ipython3",
   "version": "3.6.8"
  }
 },
 "nbformat": 4,
 "nbformat_minor": 2
}
