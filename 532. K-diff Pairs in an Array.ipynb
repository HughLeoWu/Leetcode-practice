{
 "cells": [
  {
   "cell_type": "markdown",
   "metadata": {},
   "source": [
    "## 532 K-diff Pairs in an Array\n",
    "\n",
    "Given an array of integers nums and an integer k, return the number of unique k-diff pairs in the array.\n",
    "\n",
    "A k-diff pair is an integer pair (nums[i], nums[j]), where the following are true:\n",
    "\n",
    "0 <= i, j < nums.length\n",
    "\n",
    "i != j\n",
    "\n",
    "a <= b\n",
    "\n",
    "b - a == k\n",
    "\n",
    "Input: nums = [1,2,4,4,3,3,0,9,2,3], k = 3\n",
    "\n",
    "Output: 2\n"
   ]
  },
  {
   "cell_type": "code",
   "execution_count": 1,
   "metadata": {},
   "outputs": [],
   "source": [
    "from collections import Counter \n",
    "class Solution:\n",
    "    def findPairs(self, nums, k):\n",
    "        nums_table = Counter(nums)\n",
    "        out = 0\n",
    "        for num in set(nums):\n",
    "            if k > 0 and (k + num) in nums:\n",
    "                out += 1\n",
    "            if k == 0 and nums_table[num] > 1:\n",
    "                out += 1\n",
    "        return out\n",
    "\n",
    "\n",
    "nums = [1,2,4,4,3,3,0,9,2,3]\n",
    "k = 3\n",
    "assert (Solution().findPairs(nums, k)) == 2\n",
    "\n",
    "nums = [1,2,4,4,3,3,0,9,2,3]\n",
    "k = 0\n",
    "assert (Solution().findPairs(nums, k)) == 3\n",
    "\n",
    "nums = [1,1,1,1,1]\n",
    "k = 0\n",
    "assert (Solution().findPairs(nums, k)) == 1"
   ]
  },
  {
   "cell_type": "code",
   "execution_count": null,
   "metadata": {},
   "outputs": [],
   "source": []
  }
 ],
 "metadata": {
  "kernelspec": {
   "display_name": "Python 3",
   "language": "python",
   "name": "python3"
  },
  "language_info": {
   "codemirror_mode": {
    "name": "ipython",
    "version": 3
   },
   "file_extension": ".py",
   "mimetype": "text/x-python",
   "name": "python",
   "nbconvert_exporter": "python",
   "pygments_lexer": "ipython3",
   "version": "3.6.8"
  }
 },
 "nbformat": 4,
 "nbformat_minor": 2
}
