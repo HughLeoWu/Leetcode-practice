{
 "cells": [
  {
   "cell_type": "markdown",
   "metadata": {},
   "source": [
    "## LeetCode 1470. Shuffle the Array\n",
    "Given the array nums consisting of 2n elements in the form [x1,x2,...,xn,y1,y2,...,yn].\n",
    "Return the array in the form [x1,y1,x2,y2,...,xn,yn].\n",
    "\n",
    "Example 1:\n",
    "Input: nums = [2,5,1,3,4,7], n = 3\n",
    "Output: [2,3,5,4,1,7] \n",
    "Explanation: Since x1=2, x2=5, x3=1, y1=3, y2=4, y3=7 then the answer is [2,3,5,4,1,7].\n",
    "\n",
    "Example 2:\n",
    "Input: nums = [1,2,3,4,4,3,2,1], n = 4\n",
    "Output: [1,4,2,3,3,2,4,1]\n",
    "\n",
    "Example 3:\n",
    "Input: nums = [1,1,2,2], n = 2\n",
    "Output: [1,2,1,2]"
   ]
  },
  {
   "cell_type": "code",
   "execution_count": 1,
   "metadata": {},
   "outputs": [],
   "source": [
    "# Runtime: 60 ms, faster than 81.96% of Python3 online submissions for Shuffle the Array.\n",
    "# Memory Usage: 13.8 MB, less than 87.48% of Python3 online submissions for Shuffle the Array.\n",
    "class Solution:\n",
    "    def shuffle(self, nums, n):\n",
    "        result = [0] * len(nums)\n",
    "        for idx in range(n):\n",
    "            result[2*idx] = nums[idx]\n",
    "            result[2*idx + 1] = nums[idx + n]\n",
    "        return result\n",
    "\n",
    "nums = [2,5,1,3,4,7]\n",
    "n = 3\n",
    "assert Solution().shuffle(nums, n) == [2,3,5,4,1,7]\n",
    "\n",
    "nums = [1,2,3,4,4,3,2,1]\n",
    "n = 4\n",
    "assert Solution().shuffle(nums, n) == [1,4,2,3,3,2,4,1]\n",
    "\n",
    "nums = [1,1,2,2]\n",
    "n = 2\n",
    "assert Solution().shuffle(nums, n) == [1,2,1,2]"
   ]
  },
  {
   "cell_type": "code",
   "execution_count": null,
   "metadata": {},
   "outputs": [],
   "source": []
  }
 ],
 "metadata": {
  "kernelspec": {
   "display_name": "Python 3",
   "language": "python",
   "name": "python3"
  },
  "language_info": {
   "codemirror_mode": {
    "name": "ipython",
    "version": 3
   },
   "file_extension": ".py",
   "mimetype": "text/x-python",
   "name": "python",
   "nbconvert_exporter": "python",
   "pygments_lexer": "ipython3",
   "version": "3.6.8"
  }
 },
 "nbformat": 4,
 "nbformat_minor": 2
}
