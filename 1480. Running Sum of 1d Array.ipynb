{
 "cells": [
  {
   "cell_type": "markdown",
   "metadata": {},
   "source": [
    "## LeetCode 1480. Running Sum of 1d Array\n",
    "Given an array nums. We define a running sum of an array as runningSum[i] = sum(nums[0]…nums[i]).\n",
    "Return the running sum of nums.\n",
    "\n",
    "Example 1:\n",
    "Input: nums = [1,2,3,4]\n",
    "Output: [1,3,6,10]\n",
    "Explanation: Running sum is obtained as follows: [1, 1+2, 1+2+3, 1+2+3+4].\n",
    "\n",
    "Example 2:\n",
    "Input: nums = [1,1,1,1,1]\n",
    "Output: [1,2,3,4,5]\n",
    "Explanation: Running sum is obtained as follows: [1, 1+1, 1+1+1, 1+1+1+1, 1+1+1+1+1].\n",
    "\n",
    "Example 3:\n",
    "Input: nums = [3,1,2,10,1]\n",
    "Output: [3,4,6,16,17]"
   ]
  },
  {
   "cell_type": "code",
   "execution_count": 3,
   "metadata": {},
   "outputs": [],
   "source": [
    "# Runtime: 40 ms, faster than 72.49% of Python3 online submissions for Running Sum of 1d Array.\n",
    "# Memory Usage: 14 MB, less than 46.65% of Python3 online submissions for Running Sum of 1d Array.\n",
    "\n",
    "class Solution:\n",
    "    def runningSum(self, nums):\n",
    "        result = [0] * len(nums)\n",
    "        for idx, num in enumerate(nums):\n",
    "            result[idx] = nums[idx] + result[idx - 1]        \n",
    "        return result\n",
    "\n",
    "nums = [1, 2, 3, 4] \n",
    "assert Solution().runningSum(nums) == [1, 3, 6, 10]\n",
    "\n",
    "nums = [1, 1, 1, 1, 1] \n",
    "assert Solution().runningSum(nums) == [1, 2, 3, 4, 5]\n",
    "\n",
    "nums = [3, 1, 2, 10, 1] \n",
    "assert Solution().runningSum(nums) == [3, 4, 6, 16, 17]"
   ]
  },
  {
   "cell_type": "code",
   "execution_count": 4,
   "metadata": {},
   "outputs": [],
   "source": [
    "# Runtime: 44 ms, faster than 50.79% of Python3 online submissions for Running Sum of 1d Array.\n",
    "# Memory Usage: 14 MB, less than 41.39% of Python3 online submissions for Running Sum of 1d Array.\n",
    "class Solution:\n",
    "    def runningSum(self, nums):\n",
    "        result = list()\n",
    "        for idx, num in enumerate(nums):\n",
    "            if idx > 0:\n",
    "                temp = nums[idx] + result[idx - 1]\n",
    "                result.append(temp)\n",
    "            else:\n",
    "                result.append(num)\n",
    "        \n",
    "        return result\n",
    "\n",
    "nums = [1, 2, 3, 4] \n",
    "assert Solution().runningSum(nums) == [1, 3, 6, 10]\n",
    "\n",
    "nums = [1, 1, 1, 1, 1] \n",
    "assert Solution().runningSum(nums) == [1, 2, 3, 4, 5]\n",
    "\n",
    "nums = [3, 1, 2, 10, 1] \n",
    "assert Solution().runningSum(nums) == [3, 4, 6, 16, 17]"
   ]
  },
  {
   "cell_type": "code",
   "execution_count": null,
   "metadata": {},
   "outputs": [],
   "source": []
  }
 ],
 "metadata": {
  "kernelspec": {
   "display_name": "Python 3",
   "language": "python",
   "name": "python3"
  },
  "language_info": {
   "codemirror_mode": {
    "name": "ipython",
    "version": 3
   },
   "file_extension": ".py",
   "mimetype": "text/x-python",
   "name": "python",
   "nbconvert_exporter": "python",
   "pygments_lexer": "ipython3",
   "version": "3.6.8"
  }
 },
 "nbformat": 4,
 "nbformat_minor": 2
}
